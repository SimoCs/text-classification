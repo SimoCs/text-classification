{
  "nbformat": 4,
  "nbformat_minor": 0,
  "metadata": {
    "colab": {
      "provenance": [],
      "gpuType": "T4"
    },
    "kernelspec": {
      "name": "python3",
      "display_name": "Python 3"
    },
    "language_info": {
      "name": "python"
    },
    "accelerator": "GPU"
  },
  "cells": [
    {
      "cell_type": "markdown",
      "source": [
        "## Step 1: Preprocessing the Profiles Dataset"
      ],
      "metadata": {
        "id": "yKnoip7OBTSn"
      }
    },
    {
      "cell_type": "code",
      "source": [
        "import pandas as pd\n",
        "import numpy as np\n",
        "\n",
        "from sklearn.feature_extraction.text import TfidfVectorizer\n",
        "from sklearn.model_selection import train_test_split\n",
        "from sklearn.model_selection import GridSearchCV, cross_val_score\n",
        "from sklearn.naive_bayes import MultinomialNB\n",
        "from sklearn.linear_model import LogisticRegression\n",
        "from sklearn.svm import SVC\n",
        "from sklearn.ensemble import RandomForestClassifier\n",
        "from sklearn.metrics import classification_report\n",
        "from sklearn.preprocessing import LabelEncoder\n",
        "\n",
        "import nltk\n",
        "nltk.download('punkt')\n",
        "nltk.download('stopwords')\n",
        "from nltk.corpus import stopwords\n",
        "from nltk.stem import PorterStemmer\n",
        "\n",
        "import re\n",
        "import warnings\n",
        "warnings.filterwarnings('ignore', category=UserWarning)"
      ],
      "metadata": {
        "colab": {
          "base_uri": "https://localhost:8080/"
        },
        "id": "CpSNbUB7Rjlf",
        "outputId": "e6ed957b-ecf7-4e62-fede-937cd2c265ce"
      },
      "execution_count": 1,
      "outputs": [
        {
          "output_type": "stream",
          "name": "stderr",
          "text": [
            "[nltk_data] Downloading package punkt to /root/nltk_data...\n",
            "[nltk_data]   Package punkt is already up-to-date!\n",
            "[nltk_data] Downloading package stopwords to /root/nltk_data...\n",
            "[nltk_data]   Package stopwords is already up-to-date!\n"
          ]
        }
      ]
    },
    {
      "cell_type": "code",
      "source": [
        "df = pd.read_csv('Demo Profiles.csv')"
      ],
      "metadata": {
        "id": "FhBc9GQPRlZ1"
      },
      "execution_count": 3,
      "outputs": []
    },
    {
      "cell_type": "code",
      "source": [
        "def preprocess_text(text):\n",
        "    text = text.lower()\n",
        "    text = re.sub(r'[^\\w\\s]', '', text)\n",
        "    text = re.sub(r'\\d+', '', text)\n",
        "    tokens = nltk.word_tokenize(text)\n",
        "    stop_words = set(stopwords.words('english'))\n",
        "    tokens = [word for word in tokens if word not in stop_words]\n",
        "    stemmer = PorterStemmer()\n",
        "    stemmed = [stemmer.stem(word) for word in tokens]\n",
        "    return ' '.join(stemmed)\n",
        "\n",
        "df['processed_position'] = df['position'].apply(preprocess_text)\n",
        "\n",
        "tfidf_vectorizer = TfidfVectorizer()\n",
        "X = tfidf_vectorizer.fit_transform(df['processed_position'])\n",
        "\n",
        "label_encoder = LabelEncoder()\n",
        "y = label_encoder.fit_transform(df['industry'])"
      ],
      "metadata": {
        "id": "6I_hzhU-Rq53"
      },
      "execution_count": 4,
      "outputs": []
    },
    {
      "cell_type": "markdown",
      "source": [
        "## Step 2: Split Data Into Training and Testing"
      ],
      "metadata": {
        "id": "oGZgY2w5R069"
      }
    },
    {
      "cell_type": "code",
      "source": [
        "X_train, X_test, y_train, y_test = train_test_split(X, y, test_size=0.2, random_state=44)"
      ],
      "metadata": {
        "id": "ua1o4zXXR1IY"
      },
      "execution_count": 6,
      "outputs": []
    },
    {
      "cell_type": "markdown",
      "source": [
        "## Step 3: Define Models"
      ],
      "metadata": {
        "id": "ZI_0pJWCR3vs"
      }
    },
    {
      "cell_type": "code",
      "source": [
        "models = {\n",
        "    \"Naive Bayes\": MultinomialNB(),\n",
        "    \"Logistic Regression\": LogisticRegression(),\n",
        "    \"SVM\": SVC(),\n",
        "    \"Random Forest\": RandomForestClassifier()\n",
        "}"
      ],
      "metadata": {
        "id": "xwkBzWFmR34b"
      },
      "execution_count": 7,
      "outputs": []
    },
    {
      "cell_type": "markdown",
      "source": [
        "## Step 4: Define Hyperparameter Tuning"
      ],
      "metadata": {
        "id": "kqXmhGmcR43s"
      }
    },
    {
      "cell_type": "code",
      "source": [
        "param_grid = {\n",
        "    \"Naive Bayes\": {'alpha': [0.1, 1, 10]},\n",
        "    \"Logistic Regression\": {'C': [0.1, 1, 10]},\n",
        "    \"SVM\": {'C': [0.1, 1, 10], 'kernel': ['linear', 'rbf']},\n",
        "    \"Random Forest\": {'n_estimators': [10, 50, 100], 'max_depth': [None, 10, 20]}\n",
        "}"
      ],
      "metadata": {
        "id": "OiJh5ZRFR5Bc"
      },
      "execution_count": 8,
      "outputs": []
    },
    {
      "cell_type": "markdown",
      "source": [
        "## Step 5: Train and Evaluate Models"
      ],
      "metadata": {
        "id": "114iZBIfR64D"
      }
    },
    {
      "cell_type": "code",
      "source": [
        "best_models = {}\n",
        "model_scores = {}\n",
        "\n",
        "for name, model in models.items():\n",
        "    grid = GridSearchCV(model, param_grid[name], cv=4)\n",
        "    grid.fit(X_train, y_train)\n",
        "    best_model = grid.best_estimator_\n",
        "    best_models[name] = best_model\n",
        "    scores = cross_val_score(best_model, X_train, y_train, cv=4)\n",
        "    avg_score = np.mean(scores)\n",
        "    model_scores[name] = avg_score\n",
        "    print(f\"{name}: Best Params: {grid.best_params_}, Cross-Val Score: {avg_score}\")"
      ],
      "metadata": {
        "colab": {
          "base_uri": "https://localhost:8080/"
        },
        "id": "0sfaWn-PR7FD",
        "outputId": "48b398ab-2c25-402f-9db8-69d00f565a68"
      },
      "execution_count": 9,
      "outputs": [
        {
          "output_type": "stream",
          "name": "stdout",
          "text": [
            "Naive Bayes: Best Params: {'alpha': 0.1}, Cross-Val Score: 0.7875\n",
            "Logistic Regression: Best Params: {'C': 10}, Cross-Val Score: 0.85\n",
            "SVM: Best Params: {'C': 10, 'kernel': 'linear'}, Cross-Val Score: 0.8750000000000001\n",
            "Random Forest: Best Params: {'max_depth': None, 'n_estimators': 10}, Cross-Val Score: 0.85\n"
          ]
        }
      ]
    },
    {
      "cell_type": "markdown",
      "source": [
        "## Step 6: Identify the Best Model"
      ],
      "metadata": {
        "id": "js77DrrZR-dz"
      }
    },
    {
      "cell_type": "code",
      "source": [
        "best_model_name = max(model_scores, key=model_scores.get)\n",
        "print(f\"The best model is: {best_model_name} with a Cross-Val Score of: {model_scores[best_model_name]}\")"
      ],
      "metadata": {
        "colab": {
          "base_uri": "https://localhost:8080/"
        },
        "id": "mjU66cS5R-nC",
        "outputId": "86f76ec7-fe8c-43b6-cbc1-971e0ce6ba60"
      },
      "execution_count": 10,
      "outputs": [
        {
          "output_type": "stream",
          "name": "stdout",
          "text": [
            "The best model is: SVM with a Cross-Val Score of: 0.8750000000000001\n"
          ]
        }
      ]
    },
    {
      "cell_type": "markdown",
      "source": [
        "## Step 7: Evaluate the Best Model"
      ],
      "metadata": {
        "id": "bK7xWijJSC6X"
      }
    },
    {
      "cell_type": "code",
      "source": [
        "y_pred = best_models[best_model_name].predict(X_test)\n",
        "print(f\"{best_model_name} Test Set Report:\\n{classification_report(y_test, y_pred)}\\n\")"
      ],
      "metadata": {
        "colab": {
          "base_uri": "https://localhost:8080/"
        },
        "id": "3BNZ_HnmSDDg",
        "outputId": "812dccba-3733-48fd-bd3d-9249f73714d7"
      },
      "execution_count": 11,
      "outputs": [
        {
          "output_type": "stream",
          "name": "stdout",
          "text": [
            "SVM Test Set Report:\n",
            "              precision    recall  f1-score   support\n",
            "\n",
            "           1       1.00      1.00      1.00         3\n",
            "           2       1.00      1.00      1.00         1\n",
            "           3       0.33      1.00      0.50         1\n",
            "           4       1.00      1.00      1.00         3\n",
            "           5       1.00      1.00      1.00         3\n",
            "           6       1.00      0.33      0.50         3\n",
            "           7       1.00      1.00      1.00         1\n",
            "           8       1.00      1.00      1.00         1\n",
            "           9       1.00      1.00      1.00         4\n",
            "\n",
            "    accuracy                           0.90        20\n",
            "   macro avg       0.93      0.93      0.89        20\n",
            "weighted avg       0.97      0.90      0.90        20\n",
            "\n",
            "\n"
          ]
        }
      ]
    },
    {
      "cell_type": "markdown",
      "source": [
        "## Step 8: Predict the industry category"
      ],
      "metadata": {
        "id": "TEUDYvVUSFKz"
      }
    },
    {
      "cell_type": "code",
      "source": [
        "digital_example = \"Digital Marketing Specialist\"\n",
        "\n",
        "processed_example = preprocess_text(digital_example)"
      ],
      "metadata": {
        "id": "pqLSus48SFUK"
      },
      "execution_count": 16,
      "outputs": []
    },
    {
      "cell_type": "code",
      "source": [
        "vectorized_example = tfidf_vectorizer.transform([processed_example])"
      ],
      "metadata": {
        "id": "gUu1ujwhSIKZ"
      },
      "execution_count": 17,
      "outputs": []
    },
    {
      "cell_type": "code",
      "source": [
        "predicted_category_index = best_models[\"SVM\"].predict(vectorized_example)\n",
        "predicted_category = label_encoder.inverse_transform(predicted_category_index)\n",
        "\n",
        "print(f\"The predicted industry for {digital_example} is: {predicted_category[0]}\")"
      ],
      "metadata": {
        "colab": {
          "base_uri": "https://localhost:8080/"
        },
        "id": "bF6sTipeSK1s",
        "outputId": "6e879692-b474-4208-f866-9650ca5622b5"
      },
      "execution_count": 18,
      "outputs": [
        {
          "output_type": "stream",
          "name": "stdout",
          "text": [
            "The predicted industry for Digital Marketing Specialist is: E-commerce\n"
          ]
        }
      ]
    }
  ]
}